{
 "cells": [
  {
   "cell_type": "markdown",
   "metadata": {},
   "source": [
    "### Data Preparation"
   ]
  },
  {
   "cell_type": "code",
   "execution_count": 1,
   "metadata": {},
   "outputs": [],
   "source": [
    "# initialize spark session\n",
    "import findspark\n",
    "findspark.init('/home/ubuntu/spark-2.1.1-bin-hadoop2.7')\n",
    "import pyspark\n",
    "import warnings\n",
    "from pyspark.sql import SparkSession\n",
    "spark = SparkSession.builder.appName('iteration4').getOrCreate()"
   ]
  },
  {
   "cell_type": "code",
   "execution_count": 2,
   "metadata": {},
   "outputs": [],
   "source": [
    "# Using this syntax, we can drop any row with missing data. Three rows are dropped.\n",
    "import pyspark.sql.functions as func\n",
    "from pyspark.sql.functions import isnan, when, count, col\n",
    "from pyspark.sql.functions import dayofmonth,month,hour,year,format_number\n",
    "from pyspark.sql.types import (StructField, StructType,\n",
    "                               TimestampType, IntegerType, FloatType)"
   ]
  },
  {
   "cell_type": "code",
   "execution_count": 3,
   "metadata": {},
   "outputs": [],
   "source": [
    "# Import the relevant Python libraries.\n",
    "import numpy as np\n",
    "import pandas as pd \n",
    "# Transform PySpark data frame `df` to Python data frame `data`\n",
    "#data = df.toPandas()\n",
    "import seaborn as sns\n",
    "from matplotlib import pyplot as plt\n",
    "from matplotlib import rcParams"
   ]
  },
  {
   "cell_type": "code",
   "execution_count": 4,
   "metadata": {},
   "outputs": [],
   "source": [
    "df = spark.read.csv('cardio_train.csv', header=True, inferSchema=True)"
   ]
  },
  {
   "cell_type": "code",
   "execution_count": 5,
   "metadata": {},
   "outputs": [
    {
     "data": {
      "image/png": "[encoded data removed]",
      "text/plain": [
       "<Figure size 762.375x360 with 2 Axes>"
      ]
     },
     "metadata": {
      "needs_background": "light"
     },
     "output_type": "display_data"
    }
   ],
   "source": [
    "data = df.toPandas()\n",
    "data_long = pd.melt(data, id_vars=['cardio'], value_vars=['cholesterol','gluc', 'smoke', 'alco', 'active'])\n",
    "sns.catplot(x=\"variable\", hue=\"value\", col=\"cardio\",\n",
    "                data=data_long, kind=\"count\");"
   ]
  },
  {
   "cell_type": "code",
   "execution_count": 6,
   "metadata": {},
   "outputs": [
    {
     "name": "stdout",
     "output_type": "stream",
     "text": [
      "+------+------------------+\n",
      "|gender|       avg(height)|\n",
      "+------+------------------+\n",
      "|     1|161.35561168460356|\n",
      "|     2|169.94789538210054|\n",
      "+------+------------------+\n",
      "\n"
     ]
    }
   ],
   "source": [
    "# We can also group, and show the averages of each group.\n",
    "df.groupBy('gender').mean('height').show()"
   ]
  },
  {
   "cell_type": "code",
   "execution_count": 7,
   "metadata": {},
   "outputs": [
    {
     "name": "stdout",
     "output_type": "stream",
     "text": [
      "+------+---------+\n",
      "|gender|sum(alco)|\n",
      "+------+---------+\n",
      "|     1|     1161|\n",
      "|     2|     2603|\n",
      "+------+---------+\n",
      "\n"
     ]
    }
   ],
   "source": [
    "df.groupBy('gender').sum('alco').show()"
   ]
  },
  {
   "cell_type": "code",
   "execution_count": 8,
   "metadata": {},
   "outputs": [
    {
     "name": "stdout",
     "output_type": "stream",
     "text": [
      "+------+-----+\n",
      "|gender|count|\n",
      "+------+-----+\n",
      "|     1|45530|\n",
      "|     2|24470|\n",
      "+------+-----+\n",
      "\n"
     ]
    }
   ],
   "source": [
    "df.groupBy('gender').count().show()"
   ]
  },
  {
   "cell_type": "code",
   "execution_count": 9,
   "metadata": {},
   "outputs": [
    {
     "name": "stdout",
     "output_type": "stream",
     "text": [
      "+------+-----+\n",
      "|cardio|count|\n",
      "+------+-----+\n",
      "|     1|34979|\n",
      "|     0|35021|\n",
      "+------+-----+\n",
      "\n"
     ]
    }
   ],
   "source": [
    "df.groupBy('cardio').count().show()"
   ]
  },
  {
   "cell_type": "code",
   "execution_count": 10,
   "metadata": {},
   "outputs": [
    {
     "name": "stdout",
     "output_type": "stream",
     "text": [
      "+------+-----------+\n",
      "|gender|sum(cardio)|\n",
      "+------+-----------+\n",
      "|     1|      22616|\n",
      "|     2|      12363|\n",
      "+------+-----------+\n",
      "\n"
     ]
    }
   ],
   "source": [
    "df.groupBy('gender').sum('cardio').show()"
   ]
  },
  {
   "cell_type": "code",
   "execution_count": 11,
   "metadata": {},
   "outputs": [
    {
     "name": "stdout",
     "output_type": "stream",
     "text": [
      "+-------------+-----+-----+\n",
      "|cardio_gender|    1|    2|\n",
      "+-------------+-----+-----+\n",
      "|            1|22616|12363|\n",
      "|            0|22914|12107|\n",
      "+-------------+-----+-----+\n",
      "\n"
     ]
    }
   ],
   "source": [
    "df.stat.crosstab(\"cardio\", \"gender\").show()"
   ]
  },
  {
   "cell_type": "code",
   "execution_count": 12,
   "metadata": {},
   "outputs": [
    {
     "data": {
      "text/plain": [
       "Row(cardio_freqItems=[1, 0], gender_freqItems=[2, 1], ap_hi_freqItems=[120, 135])"
      ]
     },
     "execution_count": 12,
     "metadata": {},
     "output_type": "execute_result"
    }
   ],
   "source": [
    "freq = df.stat.freqItems([\"cardio\", \"gender\", \"ap_hi\"], 0.4)\n",
    "freq.collect()[0]"
   ]
  },
  {
   "cell_type": "code",
   "execution_count": 13,
   "metadata": {},
   "outputs": [
    {
     "name": "stdout",
     "output_type": "stream",
     "text": [
      "+---+---+------+------+------+-----+-----+-----------+----+-----+----+------+------+\n",
      "| id|age|gender|height|weight|ap_hi|ap_lo|cholesterol|gluc|smoke|alco|active|cardio|\n",
      "+---+---+------+------+------+-----+-----+-----------+----+-----+----+------+------+\n",
      "|  0|  0|     0|     0|     0|    0|    0|          0|   0|    0|   0|     0|     0|\n",
      "+---+---+------+------+------+-----+-----+-----------+----+-----+----+------+------+\n",
      "\n"
     ]
    }
   ],
   "source": [
    "df.select([count(when(isnan(c), c)).alias(c) for c in df.columns]).show()"
   ]
  },
  {
   "cell_type": "code",
   "execution_count": 16,
   "metadata": {},
   "outputs": [
    {
     "name": "stdout",
     "output_type": "stream",
     "text": [
      "+-----------------------------------------------+\n",
      "|count(CASE WHEN (cardio IS NULL) THEN true END)|\n",
      "+-----------------------------------------------+\n",
      "|                                              0|\n",
      "+-----------------------------------------------+\n",
      "\n"
     ]
    }
   ],
   "source": [
    "df.select([count(when(col('cardio').isNull(),True))]).show()"
   ]
  },
  {
   "cell_type": "code",
   "execution_count": 17,
   "metadata": {},
   "outputs": [
    {
     "name": "stdout",
     "output_type": "stream",
     "text": [
      "+--------------------------------------------+\n",
      "|count(CASE WHEN (age IS NULL) THEN true END)|\n",
      "+--------------------------------------------+\n",
      "|                                           0|\n",
      "+--------------------------------------------+\n",
      "\n"
     ]
    }
   ],
   "source": [
    "df.select([count(when(col('age').isNull(),True))]).show()"
   ]
  },
  {
   "cell_type": "code",
   "execution_count": 18,
   "metadata": {},
   "outputs": [
    {
     "name": "stdout",
     "output_type": "stream",
     "text": [
      "+-----------------------------------------------+\n",
      "|count(CASE WHEN (gender IS NULL) THEN true END)|\n",
      "+-----------------------------------------------+\n",
      "|                                              0|\n",
      "+-----------------------------------------------+\n",
      "\n"
     ]
    }
   ],
   "source": [
    "df.select([count(when(col('gender').isNull(),True))]).show()"
   ]
  },
  {
   "cell_type": "code",
   "execution_count": 19,
   "metadata": {},
   "outputs": [
    {
     "name": "stdout",
     "output_type": "stream",
     "text": [
      "+-----------------------------------------------+\n",
      "|count(CASE WHEN (height IS NULL) THEN true END)|\n",
      "+-----------------------------------------------+\n",
      "|                                              0|\n",
      "+-----------------------------------------------+\n",
      "\n"
     ]
    }
   ],
   "source": [
    "df.select([count(when(col('height').isNull(),True))]).show()"
   ]
  },
  {
   "cell_type": "code",
   "execution_count": 20,
   "metadata": {},
   "outputs": [
    {
     "name": "stdout",
     "output_type": "stream",
     "text": [
      "+-----------------------------------------------+\n",
      "|count(CASE WHEN (weight IS NULL) THEN true END)|\n",
      "+-----------------------------------------------+\n",
      "|                                              0|\n",
      "+-----------------------------------------------+\n",
      "\n"
     ]
    }
   ],
   "source": [
    "df.select([count(when(col('weight').isNull(),True))]).show()"
   ]
  },
  {
   "cell_type": "code",
   "execution_count": 21,
   "metadata": {},
   "outputs": [
    {
     "name": "stdout",
     "output_type": "stream",
     "text": [
      "+----------------------------------------------+\n",
      "|count(CASE WHEN (ap_hi IS NULL) THEN true END)|\n",
      "+----------------------------------------------+\n",
      "|                                             0|\n",
      "+----------------------------------------------+\n",
      "\n"
     ]
    }
   ],
   "source": [
    "df.select([count(when(col('ap_hi').isNull(),True))]).show()"
   ]
  },
  {
   "cell_type": "code",
   "execution_count": 22,
   "metadata": {},
   "outputs": [
    {
     "name": "stdout",
     "output_type": "stream",
     "text": [
      "+----------------------------------------------+\n",
      "|count(CASE WHEN (ap_lo IS NULL) THEN true END)|\n",
      "+----------------------------------------------+\n",
      "|                                             0|\n",
      "+----------------------------------------------+\n",
      "\n"
     ]
    }
   ],
   "source": [
    "df.select([count(when(col('ap_lo').isNull(),True))]).show()"
   ]
  },
  {
   "cell_type": "code",
   "execution_count": 23,
   "metadata": {},
   "outputs": [
    {
     "name": "stdout",
     "output_type": "stream",
     "text": [
      "(70000, 13)\n"
     ]
    }
   ],
   "source": [
    "print((df.count(), len(df.columns)))"
   ]
  },
  {
   "cell_type": "code",
   "execution_count": 24,
   "metadata": {},
   "outputs": [
    {
     "name": "stdout",
     "output_type": "stream",
     "text": [
      "+---+-----+------+------+------+-----+-----+-----------+----+-----+----+------+------+-----+\n",
      "| id|  age|gender|height|weight|ap_hi|ap_lo|cholesterol|gluc|smoke|alco|active|cardio|years|\n",
      "+---+-----+------+------+------+-----+-----+-----------+----+-----+----+------+------+-----+\n",
      "|  0|18393|     2|   168|  62.0|  110|   80|          1|   1|    0|   0|     1|     0| 50.0|\n",
      "|  1|20228|     1|   156|  85.0|  140|   90|          3|   1|    0|   0|     1|     1| 55.0|\n",
      "|  2|18857|     1|   165|  64.0|  130|   70|          3|   1|    0|   0|     0|     1| 52.0|\n",
      "|  3|17623|     2|   169|  82.0|  150|  100|          1|   1|    0|   0|     1|     1| 48.0|\n",
      "|  4|17474|     1|   156|  56.0|  100|   60|          1|   1|    0|   0|     0|     0| 48.0|\n",
      "|  8|21914|     1|   151|  67.0|  120|   80|          2|   2|    0|   0|     0|     0| 60.0|\n",
      "|  9|22113|     1|   157|  93.0|  130|   80|          3|   1|    0|   0|     1|     0| 61.0|\n",
      "| 12|22584|     2|   178|  95.0|  130|   90|          3|   3|    0|   0|     1|     1| 62.0|\n",
      "| 13|17668|     1|   158|  71.0|  110|   70|          1|   1|    0|   0|     1|     0| 48.0|\n",
      "| 14|19834|     1|   164|  68.0|  110|   60|          1|   1|    0|   0|     0|     0| 54.0|\n",
      "| 15|22530|     1|   169|  80.0|  120|   80|          1|   1|    0|   0|     1|     0| 62.0|\n",
      "| 16|18815|     2|   173|  60.0|  120|   80|          1|   1|    0|   0|     1|     0| 52.0|\n",
      "| 18|14791|     2|   165|  60.0|  120|   80|          1|   1|    0|   0|     0|     0| 41.0|\n",
      "| 21|19809|     1|   158|  78.0|  110|   70|          1|   1|    0|   0|     1|     0| 54.0|\n",
      "| 23|14532|     2|   181|  95.0|  130|   90|          1|   1|    1|   1|     1|     0| 40.0|\n",
      "| 24|16782|     2|   172| 112.0|  120|   80|          1|   1|    0|   0|     0|     1| 46.0|\n",
      "| 25|21296|     1|   170|  75.0|  130|   70|          1|   1|    0|   0|     0|     0| 58.0|\n",
      "| 27|16747|     1|   158|  52.0|  110|   70|          1|   3|    0|   0|     1|     0| 46.0|\n",
      "| 28|17482|     1|   154|  68.0|  100|   70|          1|   1|    0|   0|     0|     0| 48.0|\n",
      "| 29|21755|     2|   162|  56.0|  120|   70|          1|   1|    1|   0|     1|     0| 60.0|\n",
      "+---+-----+------+------+------+-----+-----+-----------+----+-----+----+------+------+-----+\n",
      "only showing top 20 rows\n",
      "\n"
     ]
    }
   ],
   "source": [
    "df.withColumn('years',func.round(df['age']/365, 0)).show()"
   ]
  },
  {
   "cell_type": "code",
   "execution_count": 25,
   "metadata": {},
   "outputs": [
    {
     "data": {
      "text/plain": [
       "<AxesSubplot:xlabel='variable', ylabel='value'>"
      ]
     },
     "execution_count": 25,
     "metadata": {},
     "output_type": "execute_result"
    },
    {
     "data": {
      "image/png": "[encoded data removed]",
      "text/plain": [
       "<Figure size 432x288 with 1 Axes>"
      ]
     },
     "metadata": {
      "needs_background": "light"
     },
     "output_type": "display_data"
    }
   ],
   "source": [
    "blood_pressure = data.loc[:,['ap_lo','ap_hi']]\n",
    "sns.boxplot(x = 'variable',y = 'value',data = blood_pressure.melt())"
   ]
  },
  {
   "cell_type": "code",
   "execution_count": null,
   "metadata": {},
   "outputs": [],
   "source": []
  }
 ],
 "metadata": {
  "kernelspec": {
   "display_name": "Python 3",
   "language": "python",
   "name": "python3"
  },
  "language_info": {
   "codemirror_mode": {
    "name": "ipython",
    "version": 3
   },
   "file_extension": ".py",
   "mimetype": "text/x-python",
   "name": "python",
   "nbconvert_exporter": "python",
   "pygments_lexer": "ipython3",
   "version": "3.6.12"
  }
 },
 "nbformat": 4,
 "nbformat_minor": 4
}
